{
 "cells": [
  {
   "cell_type": "code",
   "execution_count": 1,
   "metadata": {},
   "outputs": [
    {
     "name": "stderr",
     "output_type": "stream",
     "text": [
      "Using TensorFlow backend.\n"
     ]
    },
    {
     "name": "stdout",
     "output_type": "stream",
     "text": [
      "There are 133 total dog categories.\n",
      "There are 8352 total dog images.\n",
      "\n",
      "There are 6681 training dog images.\n",
      "There are 835 validation dog images.\n",
      "There are 836 test dog images.\n"
     ]
    }
   ],
   "source": [
    "from sklearn.datasets import load_files       \n",
    "from keras.utils import np_utils\n",
    "import numpy as np\n",
    "from glob import glob\n",
    "\n",
    "def load_dataset(path):\n",
    "    data = load_files(path)\n",
    "    dog_files = np.array(data['filenames'])\n",
    "    dog_targets = np_utils.to_categorical(np.array(data['target']), 133)\n",
    "    return dog_files, dog_targets\n",
    "\n",
    "drive = '/floyd/input/dogbreeddata'  \n",
    "path = drive+'/dogImages/'\n",
    "  \n",
    "train_files, train_targets = load_dataset(path+'train')\n",
    "valid_files, valid_targets = load_dataset(path+'valid')\n",
    "test_files, test_targets = load_dataset(path+'test')\n",
    "\n",
    "dog_names = [item[20:-1] for item in sorted(glob(path+\"train/*/\"))]\n",
    "\n",
    "# Let's check the dataset\n",
    "print('There are %d total dog categories.' % len(dog_names))\n",
    "print('There are %s total dog images.\\n' % len(np.hstack([train_files, valid_files, test_files])))\n",
    "print('There are %d training dog images.' % len(train_files))\n",
    "print('There are %d validation dog images.' % len(valid_files))\n",
    "print('There are %d test dog images.'% len(test_files))"
   ]
  },
  {
   "cell_type": "code",
   "execution_count": 2,
   "metadata": {},
   "outputs": [],
   "source": [
    "from keras.preprocessing import image                  \n",
    "from tqdm import tqdm\n",
    "\n",
    "def path_to_tensor(img_path):\n",
    "    # loads RGB image as PIL.Image.Image type\n",
    "    img = image.load_img(img_path, target_size=(224, 224))\n",
    "    # convert PIL.Image.Image type to 3D tensor with shape (224, 224, 3)\n",
    "    x = image.img_to_array(img)\n",
    "    # convert 3D tensor to 4D tensor with shape (1, 224, 224, 3) and return 4D tensor\n",
    "    return np.expand_dims(x, axis=0)\n",
    "\n",
    "def paths_to_tensor(img_paths):\n",
    "    list_of_tensors = [path_to_tensor(img_path) for img_path in tqdm(img_paths)]\n",
    "    return np.vstack(list_of_tensors)"
   ]
  },
  {
   "cell_type": "code",
   "execution_count": 3,
   "metadata": {},
   "outputs": [
    {
     "name": "stderr",
     "output_type": "stream",
     "text": [
      "100%|██████████| 6681/6681 [01:52<00:00, 59.44it/s]\n",
      "100%|██████████| 835/835 [00:12<00:00, 66.51it/s]\n",
      "100%|██████████| 836/836 [00:12<00:00, 66.73it/s]\n"
     ]
    }
   ],
   "source": [
    "from PIL import ImageFile                            \n",
    "ImageFile.LOAD_TRUNCATED_IMAGES = True                 \n",
    "\n",
    "# pre-process the data for Keras\n",
    "train_tensors = paths_to_tensor(train_files).astype('float32')/255\n",
    "valid_tensors = paths_to_tensor(valid_files).astype('float32')/255\n",
    "test_tensors = paths_to_tensor(test_files).astype('float32')/255"
   ]
  },
  {
   "cell_type": "code",
   "execution_count": 4,
   "metadata": {},
   "outputs": [],
   "source": [
    "from keras.applications.vgg19 import VGG19\n",
    "from keras.applications.vgg19 import preprocess_input as preprocess_input_vgg19\n",
    "from keras.applications.resnet50 import ResNet50\n",
    "from keras.applications.resnet50 import preprocess_input as preprocess_input_resnet50\n",
    "\n",
    "def extract_VGG19(file_paths):\n",
    "    tensors = paths_to_tensor(file_paths).astype('float32')\n",
    "    preprocessed_input = preprocess_input_vgg19(tensors)\n",
    "    return VGG19(weights='imagenet', include_top=False).predict(preprocessed_input, batch_size=32)\n",
    "\n",
    "def extract_Resnet50(file_paths):\n",
    "    tensors = paths_to_tensor(file_paths).astype('float32')\n",
    "    preprocessed_input = preprocess_input_resnet50(tensors)\n",
    "    return ResNet50(weights='imagenet', include_top=False).predict(preprocessed_input, batch_size=32)"
   ]
  },
  {
   "cell_type": "code",
   "execution_count": 5,
   "metadata": {},
   "outputs": [
    {
     "name": "stderr",
     "output_type": "stream",
     "text": [
      "100%|██████████| 6681/6681 [01:52<00:00, 59.63it/s]\n"
     ]
    },
    {
     "name": "stdout",
     "output_type": "stream",
     "text": [
      "Downloading data from https://github.com/fchollet/deep-learning-models/releases/download/v0.1/vgg19_weights_tf_dim_ordering_tf_kernels_notop.h5\n",
      "80142336/80134624 [==============================] - 4s 0us/step\n"
     ]
    },
    {
     "name": "stderr",
     "output_type": "stream",
     "text": [
      "100%|██████████| 835/835 [00:12<00:00, 66.11it/s]\n",
      "100%|██████████| 836/836 [00:12<00:00, 66.54it/s]\n",
      "  0%|          | 8/6681 [00:00<01:27, 76.67it/s]"
     ]
    },
    {
     "name": "stdout",
     "output_type": "stream",
     "text": [
      "VGG19 shape (7, 7, 512)\n"
     ]
    },
    {
     "name": "stderr",
     "output_type": "stream",
     "text": [
      "100%|██████████| 6681/6681 [01:52<00:00, 59.43it/s]\n",
      "/usr/local/lib/python3.6/site-packages/keras_applications/resnet50.py:265: UserWarning: The output shape of `ResNet50(include_top=False)` has been changed since Keras 2.2.0.\n",
      "  warnings.warn('The output shape of `ResNet50(include_top=False)` '\n"
     ]
    },
    {
     "name": "stdout",
     "output_type": "stream",
     "text": [
      "Downloading data from https://github.com/fchollet/deep-learning-models/releases/download/v0.2/resnet50_weights_tf_dim_ordering_tf_kernels_notop.h5\n",
      "94658560/94653016 [==============================] - 5s 0us/step\n"
     ]
    },
    {
     "name": "stderr",
     "output_type": "stream",
     "text": [
      "100%|██████████| 835/835 [00:12<00:00, 65.81it/s]\n",
      "100%|██████████| 836/836 [00:12<00:00, 66.07it/s]\n"
     ]
    },
    {
     "name": "stdout",
     "output_type": "stream",
     "text": [
      "Resnet50 shape (7, 7, 2048)\n"
     ]
    }
   ],
   "source": [
    "train_vgg19 = extract_VGG19(train_files)\n",
    "valid_vgg19 = extract_VGG19(valid_files)\n",
    "test_vgg19 = extract_VGG19(test_files)\n",
    "print(\"VGG19 shape\", train_vgg19.shape[1:])\n",
    "\n",
    "train_resnet50 = extract_Resnet50(train_files)\n",
    "valid_resnet50 = extract_Resnet50(valid_files)\n",
    "test_resnet50 = extract_Resnet50(test_files)\n",
    "print(\"Resnet50 shape\", train_resnet50.shape[1:])"
   ]
  },
  {
   "cell_type": "code",
   "execution_count": 6,
   "metadata": {},
   "outputs": [
    {
     "name": "stdout",
     "output_type": "stream",
     "text": [
      "__________________________________________________________________________________________________\n",
      "Layer (type)                    Output Shape         Param #     Connected to                     \n",
      "==================================================================================================\n",
      "input_7 (InputLayer)            (None, 7, 7, 512)    0                                            \n",
      "__________________________________________________________________________________________________\n",
      "input_8 (InputLayer)            (None, 7, 7, 2048)   0                                            \n",
      "__________________________________________________________________________________________________\n",
      "global_average_pooling2d_1 (Glo (None, 512)          0           input_7[0][0]                    \n",
      "__________________________________________________________________________________________________\n",
      "global_average_pooling2d_2 (Glo (None, 2048)         0           input_8[0][0]                    \n",
      "__________________________________________________________________________________________________\n",
      "dense_1 (Dense)                 (None, 128)          65536       global_average_pooling2d_1[0][0] \n",
      "__________________________________________________________________________________________________\n",
      "dense_2 (Dense)                 (None, 512)          1048576     global_average_pooling2d_2[0][0] \n",
      "__________________________________________________________________________________________________\n",
      "batch_normalization_1 (BatchNor (None, 128)          512         dense_1[0][0]                    \n",
      "__________________________________________________________________________________________________\n",
      "batch_normalization_2 (BatchNor (None, 512)          2048        dense_2[0][0]                    \n",
      "__________________________________________________________________________________________________\n",
      "activation_148 (Activation)     (None, 128)          0           batch_normalization_1[0][0]      \n",
      "__________________________________________________________________________________________________\n",
      "activation_149 (Activation)     (None, 512)          0           batch_normalization_2[0][0]      \n",
      "__________________________________________________________________________________________________\n",
      "concatenate_1 (Concatenate)     (None, 640)          0           activation_148[0][0]             \n",
      "                                                                 activation_149[0][0]             \n",
      "__________________________________________________________________________________________________\n",
      "dropout_1 (Dropout)             (None, 640)          0           concatenate_1[0][0]              \n",
      "__________________________________________________________________________________________________\n",
      "dense_3 (Dense)                 (None, 640)          409600      dropout_1[0][0]                  \n",
      "__________________________________________________________________________________________________\n",
      "batch_normalization_3 (BatchNor (None, 640)          2560        dense_3[0][0]                    \n",
      "__________________________________________________________________________________________________\n",
      "activation_150 (Activation)     (None, 640)          0           batch_normalization_3[0][0]      \n",
      "__________________________________________________________________________________________________\n",
      "dropout_2 (Dropout)             (None, 640)          0           activation_150[0][0]             \n",
      "__________________________________________________________________________________________________\n",
      "dense_4 (Dense)                 (None, 133)          85253       dropout_2[0][0]                  \n",
      "==================================================================================================\n",
      "Total params: 1,614,085\n",
      "Trainable params: 1,611,525\n",
      "Non-trainable params: 2,560\n",
      "__________________________________________________________________________________________________\n"
     ]
    }
   ],
   "source": [
    "from keras.layers.pooling import GlobalAveragePooling2D\n",
    "from keras.layers.merge import Concatenate\n",
    "from keras.layers import Input, Dense\n",
    "from keras.layers.core import Dropout, Activation\n",
    "from keras.callbacks import ModelCheckpoint\n",
    "from keras.layers.normalization import BatchNormalization\n",
    "from keras.models import Model\n",
    "\n",
    "def input_branch(input_shape=None):\n",
    "    \n",
    "    size = int(input_shape[2] / 4)\n",
    "    \n",
    "    branch_input = Input(shape=input_shape)\n",
    "    branch = GlobalAveragePooling2D()(branch_input)\n",
    "    branch = Dense(size, use_bias=False, kernel_initializer='uniform')(branch)\n",
    "    branch = BatchNormalization()(branch)\n",
    "    branch = Activation(\"relu\")(branch)\n",
    "    return branch, branch_input\n",
    "\n",
    "vgg19_branch, vgg19_input = input_branch(input_shape=train_vgg19.shape[1:])\n",
    "resnet50_branch, resnet50_input = input_branch(input_shape=train_resnet50.shape[1:])\n",
    "concatenate_branches = Concatenate()([vgg19_branch, resnet50_branch])\n",
    "net = Dropout(0.3)(concatenate_branches)\n",
    "net = Dense(640, use_bias=False, kernel_initializer='uniform')(net)\n",
    "net = BatchNormalization()(net)\n",
    "net = Activation(\"relu\")(net)\n",
    "net = Dropout(0.3)(net)\n",
    "net = Dense(133, kernel_initializer='uniform', activation=\"softmax\")(net)\n",
    "\n",
    "model = Model(inputs=[vgg19_input, resnet50_input], outputs=[net])\n",
    "model.summary()"
   ]
  },
  {
   "cell_type": "code",
   "execution_count": 9,
   "metadata": {},
   "outputs": [],
   "source": [
    "model.compile(loss='categorical_crossentropy', optimizer=\"rmsprop\", metrics=['accuracy'])\n",
    "checkpointer = ModelCheckpoint(filepath='saved_models/bestmodel.hdf5', \n",
    "                               verbose=1, save_best_only=True)\n"
   ]
  },
  {
   "cell_type": "code",
   "execution_count": 10,
   "metadata": {},
   "outputs": [
    {
     "name": "stdout",
     "output_type": "stream",
     "text": [
      "Train on 6681 samples, validate on 835 samples\n",
      "Epoch 1/10\n",
      "6681/6681 [==============================] - 19s 3ms/step - loss: 1.5929 - acc: 0.5544 - val_loss: 0.7617 - val_acc: 0.7545\n",
      "\n",
      "Epoch 00001: val_loss improved from inf to 0.76169, saving model to saved_models/bestmodel.hdf5\n",
      "Epoch 2/10\n",
      "6681/6681 [==============================] - 17s 3ms/step - loss: 1.3422 - acc: 0.6224 - val_loss: 0.6731 - val_acc: 0.7868\n",
      "\n",
      "Epoch 00002: val_loss improved from 0.76169 to 0.67305, saving model to saved_models/bestmodel.hdf5\n",
      "Epoch 3/10\n",
      "6681/6681 [==============================] - 17s 3ms/step - loss: 1.2004 - acc: 0.6605 - val_loss: 0.6181 - val_acc: 0.7964\n",
      "\n",
      "Epoch 00003: val_loss improved from 0.67305 to 0.61808, saving model to saved_models/bestmodel.hdf5\n",
      "Epoch 4/10\n",
      "6681/6681 [==============================] - 18s 3ms/step - loss: 1.1192 - acc: 0.6876 - val_loss: 0.6228 - val_acc: 0.7976\n",
      "\n",
      "Epoch 00004: val_loss did not improve from 0.61808\n",
      "Epoch 5/10\n",
      "6681/6681 [==============================] - 17s 3ms/step - loss: 1.0949 - acc: 0.6933 - val_loss: 0.6013 - val_acc: 0.8192\n",
      "\n",
      "Epoch 00005: val_loss improved from 0.61808 to 0.60130, saving model to saved_models/bestmodel.hdf5\n",
      "Epoch 6/10\n",
      "6681/6681 [==============================] - 17s 3ms/step - loss: 1.0223 - acc: 0.7198 - val_loss: 0.5769 - val_acc: 0.8168\n",
      "\n",
      "Epoch 00006: val_loss improved from 0.60130 to 0.57690, saving model to saved_models/bestmodel.hdf5\n",
      "Epoch 7/10\n",
      "6681/6681 [==============================] - 17s 3ms/step - loss: 0.9921 - acc: 0.7297 - val_loss: 0.6211 - val_acc: 0.8144\n",
      "\n",
      "Epoch 00007: val_loss did not improve from 0.57690\n",
      "Epoch 8/10\n",
      "6681/6681 [==============================] - 18s 3ms/step - loss: 0.9452 - acc: 0.7369 - val_loss: 0.5854 - val_acc: 0.8084\n",
      "\n",
      "Epoch 00008: val_loss did not improve from 0.57690\n",
      "Epoch 9/10\n",
      "6681/6681 [==============================] - 17s 3ms/step - loss: 0.9220 - acc: 0.7502 - val_loss: 0.5969 - val_acc: 0.8084\n",
      "\n",
      "Epoch 00009: val_loss did not improve from 0.57690\n",
      "Epoch 10/10\n",
      "6681/6681 [==============================] - 17s 3ms/step - loss: 0.8606 - acc: 0.7556 - val_loss: 0.5659 - val_acc: 0.8204\n",
      "\n",
      "Epoch 00010: val_loss improved from 0.57690 to 0.56591, saving model to saved_models/bestmodel.hdf5\n"
     ]
    }
   ],
   "source": [
    "history = model.fit([train_vgg19, train_resnet50], train_targets, \n",
    "          validation_data=([valid_vgg19, valid_resnet50], valid_targets),\n",
    "          epochs=10, batch_size=4, callbacks=[checkpointer], verbose=1)"
   ]
  },
  {
   "cell_type": "code",
   "execution_count": 11,
   "metadata": {},
   "outputs": [
    {
     "data": {
      "text/plain": [
       "<Figure size 640x480 with 1 Axes>"
      ]
     },
     "metadata": {},
     "output_type": "display_data"
    },
    {
     "data": {
      "text/plain": [
       "<Figure size 640x480 with 1 Axes>"
      ]
     },
     "metadata": {},
     "output_type": "display_data"
    }
   ],
   "source": [
    "# summarize history for accuracy\n",
    "import matplotlib.pyplot as plt\n",
    "plt.plot(history.history['acc'])\n",
    "plt.plot(history.history['val_acc'])\n",
    "plt.title('model accuracy')\n",
    "plt.ylabel('accuracy')\n",
    "plt.xlabel('epoch')\n",
    "plt.legend(['train', 'valid'], loc='upper left')\n",
    "plt.show()\n",
    "# summarize history for loss\n",
    "plt.plot(history.history['loss'])\n",
    "plt.plot(history.history['val_loss'])\n",
    "plt.title('model loss')\n",
    "plt.ylabel('loss')\n",
    "plt.xlabel('epoch')\n",
    "plt.legend(['train', 'valid'], loc='upper left')\n",
    "plt.show()"
   ]
  },
  {
   "cell_type": "code",
   "execution_count": 12,
   "metadata": {},
   "outputs": [
    {
     "name": "stdout",
     "output_type": "stream",
     "text": [
      "Test accuracy: 81.6986%\n",
      "             precision    recall  f1-score   support\n",
      "\n",
      "          0       1.00      0.75      0.86         8\n",
      "          1       0.86      0.75      0.80         8\n",
      "          2       0.75      1.00      0.86         6\n",
      "          3       1.00      0.75      0.86         8\n",
      "          4       0.91      1.00      0.95        10\n",
      "          5       1.00      0.88      0.93         8\n",
      "          6       0.78      1.00      0.88         7\n",
      "          7       0.89      1.00      0.94         8\n",
      "          8       0.50      0.50      0.50         4\n",
      "          9       0.75      1.00      0.86         6\n",
      "         10       1.00      1.00      1.00         9\n",
      "         11       1.00      0.78      0.88         9\n",
      "         12       1.00      0.33      0.50         6\n",
      "         13       0.75      1.00      0.86         9\n",
      "         14       1.00      0.80      0.89        10\n",
      "         15       1.00      0.75      0.86         8\n",
      "         16       0.80      1.00      0.89         8\n",
      "         17       1.00      0.86      0.92         7\n",
      "         18       1.00      0.83      0.91         6\n",
      "         19       0.89      1.00      0.94         8\n",
      "         20       0.88      0.88      0.88         8\n",
      "         21       1.00      1.00      1.00         6\n",
      "         22       1.00      1.00      1.00         8\n",
      "         23       1.00      1.00      1.00         8\n",
      "         24       1.00      1.00      1.00         4\n",
      "         25       0.75      0.60      0.67         5\n",
      "         26       1.00      1.00      1.00         8\n",
      "         27       1.00      1.00      1.00         4\n",
      "         28       0.90      0.90      0.90        10\n",
      "         29       1.00      0.86      0.92         7\n",
      "         30       0.88      1.00      0.93         7\n",
      "         31       1.00      1.00      1.00         8\n",
      "         32       0.80      0.80      0.80         5\n",
      "         33       1.00      0.88      0.93         8\n",
      "         34       0.67      0.67      0.67         6\n",
      "         35       1.00      0.88      0.93         8\n",
      "         36       0.83      0.83      0.83         6\n",
      "         37       0.88      1.00      0.93         7\n",
      "         38       0.90      1.00      0.95         9\n",
      "         39       1.00      1.00      1.00         7\n",
      "         40       0.75      0.67      0.71         9\n",
      "         41       0.80      1.00      0.89         8\n",
      "         42       0.67      0.33      0.44         6\n",
      "         43       0.86      0.75      0.80         8\n",
      "         44       0.71      0.71      0.71         7\n",
      "         45       0.78      0.78      0.78         9\n",
      "         46       1.00      1.00      1.00         7\n",
      "         47       1.00      0.86      0.92         7\n",
      "         48       1.00      0.83      0.91         6\n",
      "         49       1.00      0.67      0.80         6\n",
      "         50       0.86      0.75      0.80         8\n",
      "         51       0.75      1.00      0.86         6\n",
      "         52       0.50      0.17      0.25         6\n",
      "         53       1.00      0.71      0.83         7\n",
      "         54       0.78      1.00      0.88         7\n",
      "         55       0.75      1.00      0.86         9\n",
      "         56       1.00      0.89      0.94         9\n",
      "         57       1.00      0.86      0.92         7\n",
      "         58       0.71      0.83      0.77         6\n",
      "         59       0.73      1.00      0.84         8\n",
      "         60       0.67      0.50      0.57         8\n",
      "         61       0.71      0.83      0.77         6\n",
      "         62       0.75      0.86      0.80         7\n",
      "         63       0.75      0.60      0.67         5\n",
      "         64       0.75      0.60      0.67         5\n",
      "         65       1.00      1.00      1.00         4\n",
      "         66       0.50      0.75      0.60         4\n",
      "         67       0.80      1.00      0.89         8\n",
      "         68       1.00      1.00      1.00         7\n",
      "         69       1.00      0.17      0.29         6\n",
      "         70       1.00      0.75      0.86         8\n",
      "         71       0.57      0.67      0.62         6\n",
      "         72       0.50      0.40      0.44         5\n",
      "         73       0.56      1.00      0.71         5\n",
      "         74       0.80      0.80      0.80         5\n",
      "         75       0.60      0.75      0.67         8\n",
      "         76       0.56      1.00      0.71         5\n",
      "         77       1.00      0.80      0.89         5\n",
      "         78       0.67      0.50      0.57         8\n",
      "         79       0.67      0.80      0.73         5\n",
      "         80       0.86      0.86      0.86         7\n",
      "         81       0.67      0.75      0.71         8\n",
      "         82       1.00      0.83      0.91         6\n",
      "         83       0.60      1.00      0.75         6\n",
      "         84       0.67      1.00      0.80         4\n",
      "         85       1.00      0.86      0.92         7\n",
      "         86       0.88      0.88      0.88         8\n",
      "         87       1.00      1.00      1.00         6\n",
      "         88       0.80      0.57      0.67         7\n",
      "         89       0.78      0.88      0.82         8\n",
      "         90       1.00      0.86      0.92         7\n",
      "         91       1.00      1.00      1.00         5\n",
      "         92       0.43      0.75      0.55         4\n",
      "         93       1.00      1.00      1.00         5\n",
      "         94       0.57      0.67      0.62         6\n",
      "         95       1.00      0.60      0.75         5\n",
      "         96       1.00      0.33      0.50         6\n",
      "         97       1.00      1.00      1.00         5\n",
      "         98       0.38      0.60      0.46         5\n",
      "         99       1.00      0.50      0.67         4\n",
      "        100       1.00      0.50      0.67         6\n",
      "        101       0.38      1.00      0.55         3\n",
      "        102       0.75      0.86      0.80         7\n",
      "        103       1.00      1.00      1.00         5\n",
      "        104       0.75      0.75      0.75         4\n",
      "        105       0.71      0.83      0.77         6\n",
      "        106       0.71      0.83      0.77         6\n",
      "        107       1.00      0.33      0.50         3\n",
      "        108       0.80      0.80      0.80         5\n",
      "        109       1.00      0.75      0.86         4\n",
      "        110       0.56      1.00      0.71         5\n",
      "        111       0.78      1.00      0.88         7\n",
      "        112       1.00      0.40      0.57         5\n",
      "        113       0.80      1.00      0.89         4\n",
      "        114       1.00      0.88      0.93         8\n",
      "        115       1.00      1.00      1.00         4\n",
      "        116       0.83      0.83      0.83         6\n",
      "        117       0.80      0.57      0.67         7\n",
      "        118       0.50      1.00      0.67         4\n",
      "        119       0.83      1.00      0.91         5\n",
      "        120       1.00      1.00      1.00         3\n",
      "        121       0.50      0.50      0.50         4\n",
      "        122       0.83      1.00      0.91         5\n",
      "        123       0.83      0.83      0.83         6\n",
      "        124       1.00      0.50      0.67         4\n",
      "        125       0.75      1.00      0.86         3\n",
      "        126       0.57      0.80      0.67         5\n",
      "        127       0.75      0.75      0.75         4\n",
      "        128       1.00      0.50      0.67         6\n",
      "        129       0.67      0.40      0.50         5\n",
      "        130       0.40      0.67      0.50         3\n",
      "        131       1.00      1.00      1.00         3\n",
      "        132       0.50      0.25      0.33         4\n",
      "\n",
      "avg / total       0.84      0.82      0.81       836\n",
      "\n"
     ]
    }
   ],
   "source": [
    "model.load_weights('saved_models/bestmodel.hdf5')\n",
    "\n",
    "from sklearn.metrics import accuracy_score, precision_score, f1_score, classification_report\n",
    "\n",
    "predictions = model.predict([test_vgg19, test_resnet50])\n",
    "breed_predictions = [np.argmax(prediction) for prediction in predictions]\n",
    "breed_true_labels = [np.argmax(true_label) for true_label in test_targets]\n",
    "print('Test accuracy: %.4f%%' % (accuracy_score(breed_true_labels, breed_predictions) * 100))\n",
    "# print('Precision: %.4f%%' % (precision_score(breed_true_labels, breed_predictions)))\n",
    "# print('f1_score: %.4f%%' % (f1_score(breed_true_labels, breed_predictions))) \n",
    "# print(precision_recall_fscore_support(breed_true_labels, breed_predictions))\n",
    "report = classification_report(breed_true_labels, breed_predictions)\n",
    "print(report)"
   ]
  },
  {
   "cell_type": "code",
   "execution_count": 62,
   "metadata": {},
   "outputs": [
    {
     "data": {
      "image/png": "[encoded data removed]",
      "text/plain": [
       "<Figure size 432x288 with 1 Axes>"
      ]
     },
     "metadata": {},
     "output_type": "display_data"
    }
   ],
   "source": [
    "from sklearn.metrics import roc_curve, auc, confusion_matrix\n",
    "def plot_roc_auc(y_true, y_pred):\n",
    "    \"\"\"\n",
    "    This function plots the ROC curves and provides the scores.\n",
    "    \"\"\"\n",
    "\n",
    "    # initialize dictionaries and array\n",
    "    fpr = dict()\n",
    "    tpr = dict()\n",
    "    roc_auc = dict()\n",
    "    lw=2\n",
    "    \n",
    "    # prepare for figure\n",
    "\n",
    "    # for both classification tasks (categories 1 and 2)\n",
    "    for i in range(1,len(dog_names)):\n",
    "        # obtain ROC curve\n",
    "        fpr[i], tpr[i], threshold = roc_curve(y_true[:,i], y_pred[:,i],pos_label=1)\n",
    "        # obtain ROC AUC\n",
    "        roc_auc[i] = auc(fpr[i], tpr[i])\n",
    "        \n",
    "    fpr[\"micro\"], tpr[\"micro\"], _ = roc_curve(y_true.ravel(), y_pred.ravel())\n",
    "    roc_auc[\"micro\"] = auc(fpr[\"micro\"], tpr[\"micro\"])\n",
    "    all_fpr = np.unique(np.concatenate([fpr[i] for i in range(1,len(dog_names))]))\n",
    "    mean_tpr = np.zeros_like(all_fpr)\n",
    "    for i in range(1,len(dog_names)):\n",
    "        mean_tpr += interp(all_fpr, fpr[i], tpr[i])\n",
    "    mean_tpr /= len(dog_names)\n",
    "    fpr[\"macro\"] = all_fpr\n",
    "    tpr[\"macro\"] = mean_tpr\n",
    "    roc_auc[\"macro\"] = auc(fpr[\"macro\"], tpr[\"macro\"])\n",
    "\n",
    "    # Plot all ROC curves\n",
    "    plt.figure(1)\n",
    "#     plt.plot(fpr[\"micro\"], tpr[\"micro\"],\n",
    "#              label='micro-average ROC curve (area = {0:0.2f})'\n",
    "#                    ''.format(roc_auc[\"micro\"]),\n",
    "#              color='deeppink', linestyle=':', linewidth=4)\n",
    "\n",
    "    plt.plot(fpr[\"macro\"], tpr[\"macro\"],\n",
    "             label='macro-average ROC curve (area = {0:0.2f})'\n",
    "                   ''.format(roc_auc[\"macro\"]),\n",
    "             color='navy', linestyle=':', linewidth=4)\n",
    "\n",
    "    colors = cycle(['aqua', 'darkorange', 'cornflowerblue'])\n",
    "#     for i, color in zip(range(1,len(dog_names)), colors):\n",
    "#         plt.plot(fpr[i], tpr[i], color=color, lw=lw,\n",
    "#                  label='ROC curve of class {0} (area = {1:0.2f})'\n",
    "#                  ''.format(i, roc_auc[i]))\n",
    "\n",
    "    plt.plot([0, 1], [0, 1], 'k--', lw=lw)\n",
    "    plt.xlim([0.0, 1.0])\n",
    "    plt.ylim([0.0, 1.05])\n",
    "    plt.xlabel('False Positive Rate')\n",
    "    plt.ylabel('True Positive Rate')\n",
    "    plt.title('ROC curve')\n",
    "    plt.legend(loc=\"lower right\")\n",
    "    plt.show()\n",
    "plot_roc_auc(test_targets,predictions)"
   ]
  },
  {
   "cell_type": "code",
   "execution_count": null,
   "metadata": {},
   "outputs": [],
   "source": []
  }
 ],
 "metadata": {
  "kernelspec": {
   "display_name": "Python 3",
   "language": "python",
   "name": "python3"
  },
  "language_info": {
   "codemirror_mode": {
    "name": "ipython",
    "version": 3
   },
   "file_extension": ".py",
   "mimetype": "text/x-python",
   "name": "python",
   "nbconvert_exporter": "python",
   "pygments_lexer": "ipython3",
   "version": "3.6.5"
  }
 },
 "nbformat": 4,
 "nbformat_minor": 2
}
